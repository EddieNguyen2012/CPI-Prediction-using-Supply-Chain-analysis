{
 "cells": [
  {
   "cell_type": "code",
   "id": "initial_id",
   "metadata": {
    "collapsed": true,
    "ExecuteTime": {
     "end_time": "2024-10-26T03:33:28.457755Z",
     "start_time": "2024-10-26T03:33:28.257189Z"
    }
   },
   "source": [
    "import pandas as pd\n",
    "import requests as r\n",
    "import matplotlib.pyplot as plt\n",
    "import plotly.express as px\n",
    "import plotly.graph_objs as go\n",
    "import numpy as np\n",
    "from bs4 import BeautifulSoup\n",
    "from matplotlib.pyplot import xlabel\n",
    "import os\n"
   ],
   "outputs": [],
   "execution_count": 1
  },
  {
   "cell_type": "code",
   "execution_count": 2,
   "outputs": [],
   "source": [
    "plot_folder = '/Users/eddie/cs163/src/Plots'\n",
    "data_folder = '/Users/eddie/cs163/src/Data'"
   ],
   "metadata": {
    "collapsed": false,
    "ExecuteTime": {
     "end_time": "2024-10-26T03:33:28.474287Z",
     "start_time": "2024-10-26T03:33:28.457767Z"
    }
   },
   "id": "7c2937516baa85ba"
  },
  {
   "metadata": {},
   "cell_type": "markdown",
   "source": [
    "# Data Collection\n",
    "## CPI Data Import"
   ],
   "id": "ee2b446d0f564f6"
  },
  {
   "cell_type": "code",
   "execution_count": 4,
   "outputs": [],
   "source": [
    "url = 'https://api.bls.gov/publicAPI/v2/timeseries/data/'\n",
    "\n",
    "data = {\n",
    "    \"seriesid\": [\"PCU311412311412\", \"PCU311423311423\", \"PCU3117--3117--\", \"PCU31191-31191-\", \"PCU311991311991\", \"PCU445---445---\", \"CUSR0000SAF\"],\n",
    "    \"startyear\": \"2005\",\n",
    "    \"endyear\": \"2024\",\n",
    "    \"catalog\": True,\n",
    "    \"calculations\": False,\n",
    "    \"annualaverage\": False,\n",
    "    \"aspects\": False,\n",
    "    \"registrationkey\": \"5974f3d1e0ac4efdad23d2e1b3e4b4e3\"\n",
    "}\n",
    "\n",
    "columns_BLS = ['Frozen Food Manufacturing PPI', 'Dried and dehydrated Food Manufacturing PPI', 'Seafood Production and Packaging PPI', 'Snack Food Manufacturing PPI', 'Perishable Food Manufacturing PPI', 'Food and Beverages Retailers PPI', 'Food and Beverages CPI (target)']\n",
    "html = r.post(url, json=data)\n",
    "html = html.json()\n",
    "\n",
    "grid = []\n",
    "month_to_num = {\n",
    "    'January': 1,\n",
    "    'February': 2,\n",
    "    'March': 3,\n",
    "    'April': 4,\n",
    "    'May': 5,\n",
    "    'June': 6,\n",
    "    'July': 7,\n",
    "    'August': 8,\n",
    "    'September': 9,\n",
    "    'October': 10,\n",
    "    'November': 11,\n",
    "    'December': 12\n",
    "}\n",
    "\n",
    "for table_index in range(0, len(columns_BLS)) :\n",
    "    data = html['Results']['series'][table_index]['data']\n",
    "    tmp_df = pd.DataFrame(data, columns=['year', 'periodName', 'value'])\n",
    "    tmp_df.periodName = tmp_df.periodName.apply(lambda x: month_to_num[x])\n",
    "    tmp_df['value'] = pd.to_numeric(tmp_df['value'], errors='coerce')\n",
    "    tmp_df.rename(columns={'year': 'year', 'periodName': 'month', 'value': columns_BLS[table_index]}, inplace=True)\n",
    "    tmp_df['Timeframe'] = pd.to_datetime(tmp_df[['year', 'month']].assign(day=1))\n",
    "    tmp_df.drop(columns=['year', 'month'], inplace=True)\n",
    "    grid.append(tmp_df)\n",
    "\n",
    "final_BLS_df = grid[0]\n",
    "for index in range(1, len(grid)):\n",
    "    final_BLS_df = final_BLS_df.merge(grid[index], on='Timeframe', how='left')\n",
    "    \n",
    "final_BLS_df.set_index('Timeframe')\n",
    "final_BLS_df.to_csv(os.path.join(data_folder, 'BLS_Data.csv'), index=False)"
   ],
   "metadata": {
    "collapsed": false,
    "ExecuteTime": {
     "end_time": "2024-10-26T03:34:22.038069Z",
     "start_time": "2024-10-26T03:34:20.342032Z"
    }
   },
   "id": "32c5e0a0443e0db5"
  },
  {
   "cell_type": "code",
   "execution_count": null,
   "outputs": [],
   "source": [
    "url = 'https://api.bls.gov/publicAPI/v2/timeseries/data/'\n",
    "columns_E = ['Civilian workers Total compensation', 'Private industry workers Total compensation', 'State and government workers Total compensation']\n",
    "data = {\n",
    "    \"seriesid\": [\"CIU1010000000000A\", \"CIU2010000000000A\", \"CIU3010000000000A\"],\n",
    "    \"startyear\": \"2005\",\n",
    "    \"endyear\": \"2024\",\n",
    "    \"catalog\": True,\n",
    "    \"calculations\": False,\n",
    "    \"annualaverage\": False,\n",
    "    \"aspects\": False,\n",
    "    \"registrationkey\": \"5974f3d1e0ac4efdad23d2e1b3e4b4e3\"\n",
    "}\n",
    "html = r.post(url, json=data)\n",
    "html = html.json()\n",
    "\n",
    "grid = []\n",
    "\n",
    "months = pd.date_range(start='01-01-2005', end='09-01-2024', freq='MS')\n",
    "quarters = months.to_period('Q').astype(str)\n",
    "month_df = pd.DataFrame({'Timeframe': months, 'quarter': quarters})\n",
    "month_df['quarter'] = month_df['quarter'].apply(lambda x: x[len(x) - 1])\n",
    "month_df['year'] = month_df['Timeframe'].apply(lambda x: x.year)\n",
    "\n",
    "\n",
    "\n",
    "for table_index in range(0, len(columns_E)) :\n",
    "    data = html['Results']['series'][table_index]['data']\n",
    "    tmp_df = pd.DataFrame(data, columns=['year', 'periodName', 'value'])\n",
    "    tmp_df['value'] = pd.to_numeric(tmp_df['value'], errors='coerce')\n",
    "    tmp_df['year'] = pd.to_numeric(tmp_df['year'], errors='coerce')\n",
    "    tmp_df.rename(columns={'year': 'year', 'periodName': 'quarter', 'value': columns_E[table_index]}, inplace=True)\n",
    "    tmp_df['quarter'] = tmp_df['quarter'].apply(lambda x: x[0])\n",
    "    tmp_df = pd.merge(month_df, tmp_df, how='left', on=['quarter', 'year'])\n",
    "    tmp_df.drop(columns=['year', 'quarter'], inplace=True)\n",
    "    grid.append(tmp_df)\n",
    "    \n",
    "final_BLS_e = grid[0]\n",
    "for index in range(1, len(grid)):\n",
    "    final_BLS_e = final_BLS_e.merge(grid[index], on='Timeframe', how='left')\n",
    "    \n",
    "final_BLS_e.to_csv(os.path.join(data_folder, 'BLS_salary.csv'), index=False)"
   ],
   "metadata": {
    "collapsed": false,
    "ExecuteTime": {
     "end_time": "2024-10-26T03:33:31.015565Z",
     "start_time": "2024-10-26T03:33:31.013018Z"
    }
   },
   "id": "997fd32b3b621eeb"
  },
  {
   "metadata": {},
   "cell_type": "markdown",
   "source": [
    "## Personal Consumption Expenditures "
   ],
   "id": "1712261ae75ca98c"
  },
  {
   "metadata": {
    "ExecuteTime": {
     "start_time": "2024-10-26T03:33:31.015305Z"
    }
   },
   "cell_type": "code",
   "source": [
    "from datetime import datetime\n",
    "url = 'https://apps.bea.gov/api/data?&UserID=6E42AF4F-01C3-4ADB-9244-2DD195EFF66E&method=GetData&DataSetName=NIPA&TableName=T20805&Frequency=M&Year=2005,2006,2007,2008,2009,2010,2011,2012,2013,2014,2015,2016,2017,2018,2019,2020,2021,2022,2023,2024&ResultFormat=JSON'\n",
    "\n",
    "html = r.get(url)\n",
    "html = html.json()\n",
    "food_pce = []\n",
    "for table in html['BEAAPI'][\"Results\"][\"Data\"]:\n",
    "    if \"Food\" in table['LineDescription'] :\n",
    "        food_pce.append(table)\n",
    "\n",
    "df_pce = pd.DataFrame(food_pce, columns=['LineDescription', 'TimePeriod', 'DataValue'])\n",
    "time_data = []\n",
    "for time in df_pce['TimePeriod']:\n",
    "    tmp = time.split('M')\n",
    "    year = int(tmp[0])\n",
    "    month = int(tmp[1])\n",
    "    time_data.append(datetime(year, month, 1))\n",
    "\n",
    "df_pce['TimePeriod'] = time_data\n",
    "df_pce['DataValue'] = pd.to_numeric(df_pce['DataValue'].str.replace(',',''), errors='coerce')\n",
    "df_pce.rename(columns={'DataValue': 'PCE', 'LineDescription': 'PCE Category', 'TimePeriod': 'date'}, inplace=True)\n",
    "df_pce = df_pce.pivot_table(index='date', columns='PCE Category', values='PCE')\n",
    "df_pce.to_csv(os.path.join(data_folder, 'pce.csv'))\n"
   ],
   "id": "3e59804135a2fc2b",
   "outputs": [],
   "execution_count": null
  },
  {
   "cell_type": "code",
   "execution_count": null,
   "outputs": [],
   "source": [
    "px.line(df_pce)"
   ],
   "metadata": {
    "collapsed": false,
    "ExecuteTime": {
     "start_time": "2024-10-26T03:33:31.016999Z"
    }
   },
   "id": "be9ff6cc56f8dc3f"
  },
  {
   "cell_type": "markdown",
   "source": [
    "## USDA Price Received Index"
   ],
   "metadata": {
    "collapsed": false
   },
   "id": "d1697d24593bfff5"
  },
  {
   "metadata": {
    "ExecuteTime": {
     "start_time": "2024-10-26T03:33:31.018557Z"
    }
   },
   "cell_type": "code",
   "outputs": [],
   "execution_count": null,
   "source": [
    "program = 'SURVEY'\n",
    "sector = ['ANIMALS & PRODUCTS', 'CROPS']\n",
    "animal_group = ['AQUACULTURE', 'DAIRY', 'LIVESTOCK', 'POULTRY']\n",
    "crop_group = ['FIELD CROPS', 'FRUIT & TREE NUTS', 'HORTICULTURE', 'VEGETABLES']\n",
    "animal_commodity = ['FOOD FISH', 'DAIRY PRODUCT TOTALS', 'LIVESTOCK TOTALS', 'POULTRY TOTALS']\n",
    "crops_commodity = ['FIELD CROPS, OTHER', 'FRUIT & TREE NUT TOTALS', 'HORTICULTURE TOTALS', 'VEGETABLE TOTALS']\n",
    "category = 'INDEX FOR PRICE RECEIVED, 2011'\n"
   ],
   "id": "eff392dfb3144eef"
  },
  {
   "cell_type": "code",
   "execution_count": null,
   "outputs": [],
   "source": [
    "base_url = 'https://quickstats.nass.usda.gov/api/api_GET'\n",
    "data_frames = []\n",
    "\n",
    "def usda_request(param) :\n",
    "    response = r.get(base_url, params=param)\n",
    "\n",
    "    json = response.json()\n",
    "    data = json['data']\n",
    "\n",
    "    df = pd.DataFrame(data, columns=['commodity_desc', 'reference_period_desc', 'year', 'Value'])\n",
    "    df.rename(columns={'commodity_desc': 'Commodity', 'reference_period_desc': 'month', 'year': 'year', 'Value': 'RPI'}, inplace=True)\n",
    "    data_frames.append(df)\n",
    "    \n",
    "    \n",
    "\n",
    "for index in [0, 1]:\n",
    "    if index == 0 :\n",
    "        for commodity in range(len(animal_group)):\n",
    "            param = {\n",
    "                'key': 'E621BE9B-36D0-3FF0-9333-443D794A932D',\n",
    "                'source_desc': program,\n",
    "                'sector_desc': sector[index],\n",
    "                'group_desc': animal_group[commodity],\n",
    "                'commodity_desc': animal_commodity[commodity],\n",
    "                'statisticcat_desc': 'INDEX FOR PRICE RECEIVED, 2011',\n",
    "                'freq_desc' : 'MONTHLY'\n",
    "            }\n",
    "            usda_request(param)\n",
    "    else:\n",
    "        for commodity in range(len(crop_group)):\n",
    "            params = {\n",
    "                'key': 'E621BE9B-36D0-3FF0-9333-443D794A932D',\n",
    "                'source_desc': program,\n",
    "                'sector_desc': sector[index],\n",
    "                'group_desc': crop_group[commodity],\n",
    "                'commodity_desc': crops_commodity[commodity],\n",
    "                'statisticcat_desc': 'INDEX FOR PRICE RECEIVED, 2011',\n",
    "                'freq_desc' : 'MONTHLY'\n",
    "            }\n",
    "            usda_request(params)\n",
    "\n",
    "    # Make a request with these parameters\n",
    "\n",
    "\n",
    "df_price_received = pd.concat(data_frames)"
   ],
   "metadata": {
    "collapsed": false,
    "ExecuteTime": {
     "end_time": "2024-10-26T03:33:31.021525Z",
     "start_time": "2024-10-26T03:33:31.020397Z"
    }
   },
   "id": "667660bd8edf1041"
  },
  {
   "cell_type": "code",
   "execution_count": null,
   "outputs": [],
   "source": [
    "month_abbr_to_num = {\n",
    "    'JAN': 1,\n",
    "    'FEB': 2,\n",
    "    'MAR': 3,\n",
    "    'APR': 4,\n",
    "    'MAY': 5,\n",
    "    'JUN': 6,\n",
    "    'JUL': 7,\n",
    "    'AUG': 8,\n",
    "    'SEP': 9,\n",
    "    'OCT': 10,\n",
    "    'NOV': 11,\n",
    "    'DEC': 12\n",
    "}\n",
    "df_price_received['month'] = df_price_received['month'].apply(lambda x: month_abbr_to_num[x]) \n",
    "df_price_received['RPI'] = pd.to_numeric(df_price_received['RPI'])\n",
    "df_price_received['Timeframe'] = pd.to_datetime(df_price_received[['month', 'year']].assign(day=1))\n",
    "df_price_received = df_price_received[df_price_received['Timeframe'] >= '2005-01-01']\n",
    "df_price_received = df_price_received.pivot_table(index='Timeframe', columns='Commodity', values='RPI')\n",
    "df_price_received.to_csv(os.path.join(data_folder, 'RPI.csv'))"
   ],
   "metadata": {
    "collapsed": false,
    "ExecuteTime": {
     "end_time": "2024-10-26T03:33:31.022054Z",
     "start_time": "2024-10-26T03:33:31.021972Z"
    }
   },
   "id": "2b808117492bb066"
  },
  {
   "cell_type": "markdown",
   "source": [
    "### Combine Dataset"
   ],
   "metadata": {
    "collapsed": false
   },
   "id": "a19d01a7e9198f21"
  },
  {
   "cell_type": "code",
   "execution_count": 5,
   "outputs": [],
   "source": [
    "PPI_CPI_data = pd.read_csv(os.path.join(data_folder, 'BLS_Data.csv'))\n",
    "salary_data = pd.read_csv(os.path.join(data_folder, 'BLS_salary.csv'))\n",
    "df_price_received = pd.read_csv(os.path.join(data_folder, 'RPI.csv'))"
   ],
   "metadata": {
    "collapsed": false,
    "ExecuteTime": {
     "end_time": "2024-10-26T03:34:25.439903Z",
     "start_time": "2024-10-26T03:34:25.426613Z"
    }
   },
   "id": "a074fa44f655f0c9"
  },
  {
   "cell_type": "code",
   "execution_count": 6,
   "outputs": [],
   "source": [
    "final = pd.merge(PPI_CPI_data, salary_data, on='Timeframe', how='left').merge(df_price_received, on='Timeframe')"
   ],
   "metadata": {
    "collapsed": false,
    "ExecuteTime": {
     "end_time": "2024-10-26T03:34:26.832098Z",
     "start_time": "2024-10-26T03:34:26.828806Z"
    }
   },
   "id": "7153d1a5be33bf5c"
  },
  {
   "cell_type": "code",
   "execution_count": 7,
   "outputs": [],
   "source": [
    "final.to_csv(os.path.join(data_folder, 'final.csv'), index=False)"
   ],
   "metadata": {
    "collapsed": false,
    "ExecuteTime": {
     "end_time": "2024-10-26T03:34:27.523308Z",
     "start_time": "2024-10-26T03:34:27.516295Z"
    }
   },
   "id": "c50aca3d7ed9f72e"
  },
  {
   "cell_type": "code",
   "execution_count": 7,
   "outputs": [],
   "source": [],
   "metadata": {
    "collapsed": false,
    "ExecuteTime": {
     "end_time": "2024-10-26T03:34:32.513264Z",
     "start_time": "2024-10-26T03:34:32.505600Z"
    }
   },
   "id": "f2efb5572e2fcefa"
  },
  {
   "cell_type": "code",
   "execution_count": null,
   "outputs": [],
   "source": [],
   "metadata": {
    "collapsed": false
   },
   "id": "ef5888eac33a2746"
  }
 ],
 "metadata": {
  "kernelspec": {
   "display_name": "Python 3",
   "language": "python",
   "name": "python3"
  },
  "language_info": {
   "codemirror_mode": {
    "name": "ipython",
    "version": 2
   },
   "file_extension": ".py",
   "mimetype": "text/x-python",
   "name": "python",
   "nbconvert_exporter": "python",
   "pygments_lexer": "ipython2",
   "version": "2.7.6"
  }
 },
 "nbformat": 4,
 "nbformat_minor": 5
}
